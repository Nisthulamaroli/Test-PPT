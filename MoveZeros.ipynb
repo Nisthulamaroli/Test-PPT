{
 "cells": [
  {
   "cell_type": "code",
   "execution_count": 6,
   "id": "ace161ac",
   "metadata": {},
   "outputs": [],
   "source": [
    "def move_zeros(a):\n",
    "    count=0\n",
    "    for i in range(len(a)):\n",
    "        if a[i]!=0:\n",
    "            a[count]=a[i]\n",
    "            count+=1\n",
    "    while count<len(a):\n",
    "        a[count]=0\n",
    "        count+=1\n",
    "    print(a)\n",
    "            \n",
    "  \n",
    "        "
   ]
  },
  {
   "cell_type": "code",
   "execution_count": 7,
   "id": "acd4a92e",
   "metadata": {},
   "outputs": [
    {
     "name": "stdout",
     "output_type": "stream",
     "text": [
      "[1, 3, 12, 0, 0]\n",
      "[0]\n"
     ]
    }
   ],
   "source": [
    "move_zeros([0,1,0,3,12])\n",
    "move_zeros([0])"
   ]
  }
 ],
 "metadata": {
  "kernelspec": {
   "display_name": "Python 3 (ipykernel)",
   "language": "python",
   "name": "python3"
  },
  "language_info": {
   "codemirror_mode": {
    "name": "ipython",
    "version": 3
   },
   "file_extension": ".py",
   "mimetype": "text/x-python",
   "name": "python",
   "nbconvert_exporter": "python",
   "pygments_lexer": "ipython3",
   "version": "3.9.12"
  }
 },
 "nbformat": 4,
 "nbformat_minor": 5
}
