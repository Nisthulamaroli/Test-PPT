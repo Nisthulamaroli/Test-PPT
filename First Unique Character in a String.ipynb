{
 "cells": [
  {
   "cell_type": "code",
   "execution_count": 17,
   "id": "7b28c472",
   "metadata": {},
   "outputs": [],
   "source": [
    "from collections import Counter\n",
    "def First_Unique_Character(s):\n",
    "    freq = {}\n",
    "    for i in s:\n",
    "        if i not in freq:\n",
    "            freq[i]=1\n",
    "        else:\n",
    "            freq[i]+=1\n",
    "    for i in range(len(s)):\n",
    "        if freq[s[i]]==1:\n",
    "            return i\n",
    "    return -1            "
   ]
  },
  {
   "cell_type": "code",
   "execution_count": 18,
   "id": "88ac699d",
   "metadata": {},
   "outputs": [
    {
     "data": {
      "text/plain": [
       "0"
      ]
     },
     "execution_count": 18,
     "metadata": {},
     "output_type": "execute_result"
    }
   ],
   "source": [
    "First_Unique_Character('leetcode')"
   ]
  },
  {
   "cell_type": "code",
   "execution_count": 19,
   "id": "ec8768e3",
   "metadata": {},
   "outputs": [
    {
     "data": {
      "text/plain": [
       "2"
      ]
     },
     "execution_count": 19,
     "metadata": {},
     "output_type": "execute_result"
    }
   ],
   "source": [
    "First_Unique_Character('loveleetcode')"
   ]
  },
  {
   "cell_type": "code",
   "execution_count": 21,
   "id": "cf491e39",
   "metadata": {},
   "outputs": [
    {
     "data": {
      "text/plain": [
       "-1"
      ]
     },
     "execution_count": 21,
     "metadata": {},
     "output_type": "execute_result"
    }
   ],
   "source": [
    "First_Unique_Character('aabb')"
   ]
  },
  {
   "cell_type": "code",
   "execution_count": null,
   "id": "e45e90ae",
   "metadata": {},
   "outputs": [],
   "source": []
  }
 ],
 "metadata": {
  "kernelspec": {
   "display_name": "Python 3 (ipykernel)",
   "language": "python",
   "name": "python3"
  },
  "language_info": {
   "codemirror_mode": {
    "name": "ipython",
    "version": 3
   },
   "file_extension": ".py",
   "mimetype": "text/x-python",
   "name": "python",
   "nbconvert_exporter": "python",
   "pygments_lexer": "ipython3",
   "version": "3.9.12"
  }
 },
 "nbformat": 4,
 "nbformat_minor": 5
}
