{
 "cells": [
  {
   "cell_type": "markdown",
   "id": "9330fd62",
   "metadata": {},
   "source": [
    "Given a non-negative integer x, return the square root of x rounded down to the nearest integer. The returned integer should be non-negative as well. You must not use any built-in exponent function or operator. \n",
    "\n",
    " Example 1:\n",
    "Input: x = 4 Output: 2 Explanation: The square root of 4 is 2, so we return 2.\n",
    "Example 2:\n",
    "\n",
    "Input: x = 8 Output: 2 Explanation: The square root of 8 is 2.82842..., and since we round it down to the nearest integer, 2 is returned.\n",
    "Constraints:\n",
    "\n",
    "0 <= x <= 2^31 - 1"
   ]
  },
  {
   "cell_type": "code",
   "execution_count": 4,
   "id": "85a6210c",
   "metadata": {},
   "outputs": [],
   "source": [
    "def squareroot(x):\n",
    "    start=1\n",
    "    end=x//2\n",
    "    if x==0 or x==1:\n",
    "        return x\n",
    "    while start<=end:\n",
    "        mid=(start+end)//2\n",
    "        if mid*mid==x:\n",
    "            return mid\n",
    "        if mid*mid<x:\n",
    "            start=mid+1\n",
    "            result=mid\n",
    "        else:\n",
    "            end=mid-1\n",
    "    return result\n",
    "            \n",
    "\n",
    "        "
   ]
  },
  {
   "cell_type": "code",
   "execution_count": 5,
   "id": "c76fc5ca",
   "metadata": {},
   "outputs": [
    {
     "data": {
      "text/plain": [
       "2"
      ]
     },
     "execution_count": 5,
     "metadata": {},
     "output_type": "execute_result"
    }
   ],
   "source": [
    "squareroot(4)"
   ]
  },
  {
   "cell_type": "code",
   "execution_count": 6,
   "id": "a9abc590",
   "metadata": {},
   "outputs": [
    {
     "data": {
      "text/plain": [
       "2"
      ]
     },
     "execution_count": 6,
     "metadata": {},
     "output_type": "execute_result"
    }
   ],
   "source": [
    "squareroot(8)"
   ]
  },
  {
   "cell_type": "code",
   "execution_count": null,
   "id": "1e65970c",
   "metadata": {},
   "outputs": [],
   "source": []
  }
 ],
 "metadata": {
  "kernelspec": {
   "display_name": "Python 3 (ipykernel)",
   "language": "python",
   "name": "python3"
  },
  "language_info": {
   "codemirror_mode": {
    "name": "ipython",
    "version": 3
   },
   "file_extension": ".py",
   "mimetype": "text/x-python",
   "name": "python",
   "nbconvert_exporter": "python",
   "pygments_lexer": "ipython3",
   "version": "3.9.12"
  }
 },
 "nbformat": 4,
 "nbformat_minor": 5
}
